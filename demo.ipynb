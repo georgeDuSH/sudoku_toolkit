{
 "cells": [
  {
   "cell_type": "code",
   "execution_count": 7,
   "metadata": {},
   "outputs": [
    {
     "name": "stdout",
     "output_type": "stream",
     "text": [
      "0 8 5 \t 0 0 0 \t 2 1 0\n",
      "0 9 4 \t 0 1 2 \t 0 0 3\n",
      "0 0 0 \t 3 0 0 \t 7 0 4\n",
      "\n",
      "5 0 3 \t 4 0 9 \t 0 0 0\n",
      "0 4 0 \t 2 0 6 \t 0 3 0\n",
      "0 0 0 \t 1 0 3 \t 9 0 7\n",
      "\n",
      "6 0 8 \t 0 0 5 \t 0 0 0\n",
      "1 0 0 \t 8 4 0 \t 3 6 0\n",
      "0 2 7 \t 0 0 0 \t 8 9 0\n",
      "\n"
     ]
    }
   ],
   "source": [
    "from sudoku_toolkit.utils import SUDOKU\n",
    "\n",
    "my_puzzle = [[0,8,5,0,0,0,2,1,0],\n",
    "             [0,9,4,0,1,2,0,0,3],\n",
    "             [0,0,0,3,0,0,7,0,4],\n",
    "             [5,0,3,4,0,9,0,0,0],\n",
    "             [0,4,0,2,0,6,0,3,0],\n",
    "             [0,0,0,1,0,3,9,0,7],\n",
    "             [6,0,8,0,0,5,0,0,0],\n",
    "             [1,0,0,8,4,0,3,6,0],\n",
    "             [0,2,7,0,0,0,8,9,0]]\n",
    "             \n",
    "my_puzzle_sdk = SUDOKU(my_puzzle)\n",
    "print(my_puzzle_sdk)"
   ]
  },
  {
   "cell_type": "code",
   "execution_count": 8,
   "metadata": {},
   "outputs": [
    {
     "name": "stdout",
     "output_type": "stream",
     "text": [
      "Sudoku is valid...\n",
      "Sudoku is solvable...\n",
      "Sudoku has one unique solution\n"
     ]
    }
   ],
   "source": [
    "from sudoku_toolkit.evaluator import print_solution_report\n",
    "\n",
    "print_solution_report(my_puzzle)"
   ]
  },
  {
   "cell_type": "code",
   "execution_count": 9,
   "metadata": {},
   "outputs": [
    {
     "name": "stdout",
     "output_type": "stream",
     "text": [
      "Sudoku is valid...\n",
      "Sudoku under examination is not solvable...\n"
     ]
    }
   ],
   "source": [
    "# duplicated 5 at this row\n",
    "\n",
    "bad_case_no_solution = [[0,8,5,0,0,0,2,5,0], \n",
    "                        [0,9,4,0,1,2,0,0,3],\n",
    "                        [0,0,0,3,0,0,7,0,4],\n",
    "                        [5,0,3,4,0,9,0,0,0],\n",
    "                        [0,4,0,2,0,6,0,3,0],\n",
    "                        [0,0,0,1,0,3,9,0,7],\n",
    "                        [6,0,8,0,0,5,0,0,0],\n",
    "                        [1,0,0,8,4,0,3,6,0],\n",
    "                        [0,2,7,0,0,0,8,9,0]]\n",
    "\n",
    "print_solution_report(bad_case_no_solution)"
   ]
  },
  {
   "cell_type": "code",
   "execution_count": 11,
   "metadata": {},
   "outputs": [
    {
     "name": "stdout",
     "output_type": "stream",
     "text": [
      "Sudoku is valid...\n",
      "Sudoku is solvable...\n",
      "Sudoku has multiple solutions, to be specific, 3 in all.\n"
     ]
    }
   ],
   "source": [
    "# remove elements at the last col\n",
    "\n",
    "bad_case_multi_solutions = [[0,8,5,0,0,0,2,0,0], \n",
    "                            [0,9,4,0,1,2,0,0,0],\n",
    "                            [0,0,0,3,0,0,7,0,0],\n",
    "                            [5,0,3,4,0,9,0,0,0],\n",
    "                            [0,4,0,2,0,6,0,3,0],\n",
    "                            [0,0,0,1,0,3,9,0,0],\n",
    "                            [6,0,8,0,0,5,0,0,0],\n",
    "                            [1,0,0,8,4,0,3,6,0],\n",
    "                            [0,2,7,0,0,0,8,9,0]]\n",
    "\n",
    "print_solution_report(bad_case_multi_solutions)"
   ]
  },
  {
   "cell_type": "code",
   "execution_count": 18,
   "metadata": {},
   "outputs": [
    {
     "name": "stdout",
     "output_type": "stream",
     "text": [
      "----- Generating Puzzle without Seed -----\n",
      "1 loops\n",
      "3 6 0 \t 4 0 1 \t 8 0 7\n",
      "0 0 0 \t 6 5 8 \t 1 2 3\n",
      "0 0 0 \t 0 0 2 \t 4 6 9\n",
      "\n",
      "8 1 0 \t 9 4 6 \t 0 3 2\n",
      "0 0 9 \t 1 7 0 \t 6 8 0\n",
      "6 4 5 \t 2 8 3 \t 7 9 1\n",
      "\n",
      "1 5 8 \t 3 2 7 \t 9 4 0\n",
      "4 0 6 \t 0 1 0 \t 0 7 5\n",
      "9 0 3 \t 5 6 4 \t 2 0 0\n",
      "\n",
      "Sudoku is valid...\n",
      "Sudoku is solvable...\n",
      "Sudoku has one unique solution\n",
      "\n",
      "----- Generating Puzzle with Seed -----\n",
      "1 loops\n",
      "0 0 0 \t 0 0 1 \t 6 0 4\n",
      "4 0 0 \t 7 0 5 \t 1 3 9\n",
      "6 1 5 \t 9 4 3 \t 8 0 7\n",
      "\n",
      "2 7 3 \t 4 0 6 \t 5 0 0\n",
      "5 9 8 \t 2 0 7 \t 4 6 0\n",
      "1 4 0 \t 5 3 0 \t 7 8 2\n",
      "\n",
      "8 0 0 \t 6 7 4 \t 3 0 5\n",
      "7 5 0 \t 3 9 8 \t 0 0 6\n",
      "3 6 0 \t 1 0 2 \t 9 7 8\n",
      "\n",
      "Sudoku is valid...\n",
      "Sudoku is solvable...\n",
      "Sudoku has one unique solution\n"
     ]
    }
   ],
   "source": [
    "from sudoku_toolkit.generator import DLXGenerator\n",
    "from sudoku_toolkit.evaluator import print_solution_report\n",
    "\n",
    "print('----- Generating Puzzle without Seed -----')\n",
    "dlx_gen = DLXGenerator()\n",
    "dlx_gen.random_init()\n",
    "dlx_gen.generate_puzzle(spaces=25)\n",
    "print(dlx_gen.generated_matrix)\n",
    "print_solution_report(dlx_gen.generated_matrix)\n",
    "\n",
    "\n",
    "print('\\n----- Generating Puzzle with Seed -----')\n",
    "m_seed = [[0,0,0,0,0,0,0,0,0],\n",
    "          [0,0,2,0,0,0,1,0,0],\n",
    "          [0,1,0,0,0,0,0,2,0],\n",
    "          [0,0,0,0,0,0,0,0,0],\n",
    "          [0,0,0,0,0,0,0,0,0],\n",
    "          [0,0,0,0,0,0,0,0,0],\n",
    "          [0,2,0,0,0,0,0,1,0],\n",
    "          [0,0,1,0,0,0,2,0,0],\n",
    "          [0,0,0,0,0,0,0,0,0]]\n",
    "dlx_gen_s = DLXGenerator(matrix_seed=m_seed)\n",
    "dlx_gen_s.random_init()\n",
    "dlx_gen_s.generate_puzzle(spaces=25)\n",
    "print(dlx_gen_s.generated_matrix)\n",
    "print_solution_report(dlx_gen_s.generated_matrix)"
   ]
  },
  {
   "cell_type": "code",
   "execution_count": 20,
   "metadata": {},
   "outputs": [
    {
     "name": "stdout",
     "output_type": "stream",
     "text": [
      "----- Puzzle -----\n",
      "3 6 0 \t 4 0 1 \t 8 0 7\n",
      "0 0 0 \t 6 5 8 \t 1 2 3\n",
      "0 0 0 \t 0 0 2 \t 4 6 9\n",
      "\n",
      "8 1 0 \t 9 4 6 \t 0 3 2\n",
      "0 0 9 \t 1 7 0 \t 6 8 0\n",
      "6 4 5 \t 2 8 3 \t 7 9 1\n",
      "\n",
      "1 5 8 \t 3 2 7 \t 9 4 0\n",
      "4 0 6 \t 0 1 0 \t 0 7 5\n",
      "9 0 3 \t 5 6 4 \t 2 0 0\n",
      "\n",
      "----- Solution -----\n",
      "3 6 2 \t 4 9 1 \t 8 5 7\n",
      "7 9 4 \t 6 5 8 \t 1 2 3\n",
      "5 8 1 \t 7 3 2 \t 4 6 9\n",
      "\n",
      "8 1 7 \t 9 4 6 \t 5 3 2\n",
      "2 3 9 \t 1 7 5 \t 6 8 4\n",
      "6 4 5 \t 2 8 3 \t 7 9 1\n",
      "\n",
      "1 5 8 \t 3 2 7 \t 9 4 6\n",
      "4 2 6 \t 8 1 9 \t 3 7 5\n",
      "9 7 3 \t 5 6 4 \t 2 1 8\n",
      "\n"
     ]
    }
   ],
   "source": [
    "from sudoku_toolkit.solver import DFSSolver, DLXSolver, BrutalSolver, GeneticSolver\n",
    "\n",
    "mat = dlx_gen.generated_matrix.sudoku_matrix\n",
    "\n",
    "dfs = DFSSolver(mat)\n",
    "dfs.solve() # solve\n",
    "\n",
    "print('----- Puzzle -----')\n",
    "print(dfs)\n",
    "\n",
    "print('----- Solution -----')\n",
    "print(dfs.solution) # solution"
   ]
  }
 ],
 "metadata": {
  "kernelspec": {
   "display_name": "Python 3.8.10 64-bit",
   "language": "python",
   "name": "python3"
  },
  "language_info": {
   "codemirror_mode": {
    "name": "ipython",
    "version": 3
   },
   "file_extension": ".py",
   "mimetype": "text/x-python",
   "name": "python",
   "nbconvert_exporter": "python",
   "pygments_lexer": "ipython3",
   "version": "3.8.10"
  },
  "orig_nbformat": 4,
  "vscode": {
   "interpreter": {
    "hash": "00499476119a38fdac92034240d7ef2fa4f5985bf02d398f0fd3693908f0286e"
   }
  }
 },
 "nbformat": 4,
 "nbformat_minor": 2
}
